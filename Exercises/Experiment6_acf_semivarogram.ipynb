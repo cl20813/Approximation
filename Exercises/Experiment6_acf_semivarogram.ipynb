{
 "cells": [
  {
   "cell_type": "code",
   "execution_count": 6,
   "metadata": {},
   "outputs": [],
   "source": [
    "import numpy as np\n",
    "import math \n",
    "import scipy\n",
    "from scipy.special import kv"
   ]
  },
  {
   "cell_type": "markdown",
   "metadata": {},
   "source": [
    "# Variance function   "
   ]
  },
  {
   "cell_type": "code",
   "execution_count": 17,
   "metadata": {},
   "outputs": [],
   "source": [
    "class my_matern_variance:           # smooth parameter 1.5\n",
    "    def __init__(self, m=100, delta=0.05, k=1, v=0.5):\n",
    "        self.m = m                                         \n",
    "        self.delta = delta\n",
    "        self.k = k\n",
    "        self.v = v\n",
    "  \n",
    "    def matern_cov(self,d):\n",
    "        abs_d = np.abs(d)\n",
    "        if abs_d ==0:\n",
    "            return 1\n",
    "        else:\n",
    "            sigmasq = 1\n",
    "            range = 1\n",
    "            out = sigmasq * (2**(1-self.v))/math.gamma(self.v) * (abs_d/range)**(self.v)*kv(self.v, abs_d/range)        \n",
    "            return out   \n",
    "\n",
    "    def EA_jB_s(self,j, s, delta, k):\n",
    "        tmp1 = self.matern_cov(0)**2 + 2* self.matern_cov( (j-s)*delta )**2 \n",
    "        tmp2 = -2*( self.matern_cov(0)*self.matern_cov( k*delta) + 2*self.matern_cov( (j-s)*delta ) * self.matern_cov( (j+k-s)*delta) )\n",
    "        tmp3 = self.matern_cov( 0)**2 + 2* self.matern_cov( (j+k-s)*delta)**2 \n",
    "        \n",
    "        tmp4 = -2 * ( self.matern_cov(0) * self.matern_cov( k*delta) + 2*self.matern_cov( (j-s)*delta) * self.matern_cov( (j -s -k)*delta) )\n",
    "        tmp5 = 4 * (self.matern_cov(k*delta)**2 + self.matern_cov( (j -s)*delta)**2 + self.matern_cov( (j+k-s)*delta ) * self.matern_cov( (j-s-k)*delta) )\n",
    "        tmp6 = -2 * (self.matern_cov( 0 )*self.matern_cov( k*delta) + 2*self.matern_cov( (j+k-s)*delta ) *self.matern_cov( (j-s)*delta) )\n",
    "\n",
    "        tmp7 =  self.matern_cov(0)**2 + 2* self.matern_cov( (j-s-k)*delta)**2      \n",
    "        tmp8 =  -2*( self.matern_cov(0)*self.matern_cov(k*delta) + 2*self.matern_cov( (s+k-j)*delta )*self.matern_cov( (j-s)*delta ) )\n",
    "        tmp9 =  self.matern_cov(0)**2 + 2* self.matern_cov( (j-s)*delta)**2\n",
    "        out = tmp1+tmp2+tmp3+tmp4+tmp5+tmp6+tmp7+tmp8+tmp9\n",
    "\n",
    "        return  out\n",
    "\n",
    "\n",
    "    def EXY(self,k,delta,m):\n",
    "        sum = 0\n",
    "        for j in range( m-k+1):\n",
    "            for s in range( m-k+1):\n",
    "                sum += self.EA_jB_s(j,s,delta,k)\n",
    "\n",
    "        sum = 1/(4*(m-k+1)*(m-k+1))*sum\n",
    "        print(f'EXY = {(sum)}')\n",
    "        return sum\n",
    "    \n",
    "    def EXEY_(self,k,delta, m):\n",
    "        \n",
    "        EXEY =  ( self.matern_cov(0)**2 - 2*self.matern_cov(k*delta)*self.matern_cov(0) + self.matern_cov(k*delta)**2 )\n",
    "\n",
    "        print(f'EXEY = {(EXEY)}')   \n",
    "        return EXEY\n",
    "    \n",
    "    def EX_(self, k, delta):\n",
    "        out = self.matern_cov(0) - self.matern_cov(k*delta)\n",
    "        return out\n",
    "    \n",
    "    \n",
    "    def simulation(self):\n",
    "      \n",
    "        EXY = self.EXY(self.k,  self.delta, self.m)\n",
    "        EXEY = self.EXEY_(self.k, self.delta, self.m)\n",
    "        EX = self.EX_(self.k, self.delta)\n",
    "        print(f'mean is {EX}')\n",
    "\n",
    "        cov = EXY - EXEY\n",
    "        sd = np.sqrt(cov)\n",
    "        out = sd / EX\n",
    "\n",
    "        print(f'Standard deviation of gamma_hat(k={self.k}) when m={self.m}, delta= {self.delta}, and smooth parameter = {self.v} is {sd}' )       \n",
    "        print(f'Relative Standard deviation of gamma_hat(k={self.k}) when m={self.m}, delta= {self.delta}, and smooth parameter = {self.v} is {round(out,4)}' )\n",
    "\n",
    "        return out\n",
    "    \n"
   ]
  },
  {
   "cell_type": "markdown",
   "metadata": {},
   "source": [
    "## Run the code"
   ]
  },
  {
   "cell_type": "code",
   "execution_count": 27,
   "metadata": {},
   "outputs": [
    {
     "name": "stdout",
     "output_type": "stream",
     "text": [
      "EXY = 2.4053474223409576e-05\n",
      "EXEY = 2.3898593501603393e-05\n",
      "mean is 0.00488861877237623\n",
      "Standard deviation of gamma_hat(k=5) when m=2000, delta= 0.005, and smooth parameter = 0.75 is 0.0003935488810887193\n",
      "Relative Standard deviation of gamma_hat(k=5) when m=2000, delta= 0.005, and smooth parameter = 0.75 is 0.0805\n"
     ]
    }
   ],
   "source": [
    "semi_var_relative_sd = my_matern_variance(m=2000, delta=0.005,  k=5, v=0.75 )\n",
    "rel_sd = semi_var_relative_sd.simulation()"
   ]
  },
  {
   "cell_type": "markdown",
   "metadata": {},
   "source": [
    "# Covariance and Correlation (not for this homework yet)"
   ]
  },
  {
   "cell_type": "code",
   "execution_count": 14,
   "metadata": {},
   "outputs": [],
   "source": [
    "class my_matern_covariance:           # smooth parameter 1.5\n",
    "    def __init__(self, m=1000, delta=0.001, k=1, k2= 1, v=0.5):\n",
    "        self.m = m\n",
    "        self.delta = delta\n",
    "        self.k = k\n",
    "        self.k2 = k2\n",
    "        self.v = v\n",
    "  \n",
    "    def matern_cov(self,d):\n",
    "        abs_d = np.abs(d)\n",
    "        if abs_d ==0:\n",
    "            return 1\n",
    "        else:\n",
    "            sigmasq = 1\n",
    "            range = 1\n",
    "            out = sigmasq * (2**(1-self.v))/math.gamma(self.v) * (abs_d/range)**(self.v)*kv(self.v, abs_d/range)\n",
    "        return out   \n",
    "        \n",
    "    \n",
    "    def EA_jB_s(self,j,s,delta,k,k2):\n",
    "        tmp1 = (self.matern_cov(0)**2 + 2* self.matern_cov( (j+k-s-k2)*delta )**2)\n",
    "        tmp2 = (-2*( self.matern_cov(0)*self.matern_cov( k2*delta) + 2*self.matern_cov( (j+k-s-k2)*delta ) * self.matern_cov( (j+k-s)*delta) ))\n",
    "        tmp3 = (self.matern_cov( 0)**2 + 2* self.matern_cov( (j+k-s)*delta)**2) \n",
    "       \n",
    "        tmp4 = (-2 * ( self.matern_cov(0) * self.matern_cov( k*delta) + 2*self.matern_cov( (j+k-s-k2)*delta) * self.matern_cov( (j - s -k2)*delta) ))\n",
    "        tmp5 = (4 * (self.matern_cov(k*delta) * self.matern_cov(k2*delta) + self.matern_cov( (j+k -s-k2)*delta) * self.matern_cov( (j-s)*delta )+ self.matern_cov( (j+k-s)*delta ) * self.matern_cov( (j-s-k2)*delta) ))\n",
    "        tmp6 = (-2 * (self.matern_cov( 0 )*self.matern_cov( k*delta) + 2*self.matern_cov( (j+k-s)*delta ) *self.matern_cov( (j-s)*delta) ))\n",
    "\n",
    "        tmp7 =  (self.matern_cov(0)**2 + 2* self.matern_cov( (j-s-k2)*delta)**2)      \n",
    "        tmp8 =  (-2*( self.matern_cov(0)*self.matern_cov(k2*delta) + 2*self.matern_cov( (j-s-k2)*delta )*self.matern_cov( (j-s)*delta ) ))\n",
    "        tmp9 =  (self.matern_cov(0)**2 + 2* self.matern_cov( (j-s)*delta)**2)\n",
    "        out = tmp1 + tmp2 + tmp3 + tmp4 + tmp5 + tmp6 + tmp7 + tmp8 + tmp9\n",
    "        # print(f'ab{out}')\n",
    "        return  out\n",
    "    \n",
    "    def EXY(self,k,k2,delta,m):\n",
    "        sum = 0\n",
    "        for j in range(1, m-k+1):\n",
    "            for s in range(1, m-k2+1):\n",
    "                sum += self.EA_jB_s(j,s,delta,k,k2)\n",
    "        fraction = 1 / ( 4*(m-k)*(m-k2) )\n",
    "        sum = fraction * sum\n",
    "        # print(f'EXY = {(sum)}')\n",
    "        return sum\n",
    "    \n",
    "    def EXEY_(self,k,k2,delta, m):\n",
    "        # EXEY = (m-self.k)*(m-self.k2)* ( matern_cov(0)**2 - ( matern_cov(k*delta) + matern_cov(k2*delta) )*matern_cov(0) + matern_cov(k*delta)*matern_cov(k2*delta) )\n",
    "        EXEY =  self.matern_cov(0)**2 - ( self.matern_cov(k*delta) + self.matern_cov(k2*delta) ) * self.matern_cov(0) + self.matern_cov(k*delta) * self.matern_cov(k2*delta) \n",
    "        # print(f'EXEY = {(EXEY)}')   \n",
    "        return EXEY\n",
    "    \n",
    "    def EX_(self, k, delta):\n",
    "        out = self.matern_cov(0) - self.matern_cov(k*delta)\n",
    "        return out\n",
    "    \n",
    "    def simulation(self):\n",
    "      \n",
    "        EXY = self.EXY(self.k, self.k2, self.delta, self.m)\n",
    "        EXEY = self.EXEY_(self.k,self.k2,self.delta, self.m)\n",
    "        cov = EXY - EXEY\n",
    "        sd = np.sqrt(cov)\n",
    "        EX = self.EX_(self.k,self.delta)\n",
    "        # print(f'mean of semivariogram is {EX}')\n",
    "        out = sd / EX\n",
    "        # print(f'Standard deviation of gamma_hat(k={self.k}) when m={self.m}, delta= {self.delta}, and smooth parameter = {self.v} is {round(sd,5)}' )\n",
    "        print(f'Relative Standard deviation of gamma_hat(k={self.k}) when m={self.m}, delta= {self.delta}, and smooth parameter = {self.v} is {round(out,5)}' )\n",
    "\n",
    "        return out"
   ]
  },
  {
   "cell_type": "markdown",
   "metadata": {},
   "source": [
    "## Run the code"
   ]
  },
  {
   "cell_type": "code",
   "execution_count": 16,
   "metadata": {},
   "outputs": [
    {
     "name": "stdout",
     "output_type": "stream",
     "text": [
      "Relative Standard deviation of gamma_hat(k=1) when m=2000, delta= 0.0005, and smooth parameter = 0.25 is 0.03434\n"
     ]
    }
   ],
   "source": [
    "covariance = my_matern_covariance(m=2000, delta=0.0005,  k=1, k2= 1, v=0.25)\n",
    "relative_sd = covariance.simulation()\n"
   ]
  }
 ],
 "metadata": {
  "kernelspec": {
   "display_name": "msds534",
   "language": "python",
   "name": "python3"
  },
  "language_info": {
   "codemirror_mode": {
    "name": "ipython",
    "version": 3
   },
   "file_extension": ".py",
   "mimetype": "text/x-python",
   "name": "python",
   "nbconvert_exporter": "python",
   "pygments_lexer": "ipython3",
   "version": "3.10.13"
  }
 },
 "nbformat": 4,
 "nbformat_minor": 2
}
